{
  "nbformat": 4,
  "nbformat_minor": 0,
  "metadata": {
    "colab": {
      "provenance": []
    },
    "kernelspec": {
      "name": "python3",
      "display_name": "Python 3"
    },
    "language_info": {
      "name": "python"
    }
  },
  "cells": [
    {
      "cell_type": "code",
      "source": [
        "import pandas as pd\n",
        "import math\n",
        "\n",
        "data = {\n",
        "    'Outlook': ['Sunny', 'Sunny', 'Overcast', 'Rainy', 'Rainy', 'Rainy', 'Overcast',\n",
        "                'Sunny', 'Sunny', 'Rainy', 'Sunny', 'Overcast', 'Overcast', 'Rainy'],\n",
        "    'Temperature': ['Hot', 'Hot', 'Hot', 'Mild', 'Cool', 'Cool', 'Cool',\n",
        "                   'Mild', 'Cool', 'Mild', 'Mild', 'Mild', 'Hot', 'Mild'],\n",
        "    'Humidity': ['High', 'High', 'High', 'High', 'Normal', 'Normal', 'Normal',\n",
        "                'High', 'Normal', 'Normal', 'Normal', 'High', 'Normal', 'High'],\n",
        "    'Windy': ['False', 'True', 'False', 'False', 'False', 'True', 'True',\n",
        "             'False', 'False', 'False', 'True', 'True', 'False', 'True'],\n",
        "    'Play': ['No', 'No', 'Yes', 'Yes', 'Yes', 'No', 'Yes',\n",
        "            'No', 'Yes', 'Yes', 'Yes', 'Yes', 'Yes', 'No']\n",
        "}\n",
        "\n",
        "df = pd.DataFrame(data)\n",
        "\n",
        "def entropy(target_col):\n",
        "    elements, counts = pd.unique(target_col), target_col.value_counts()\n",
        "    entropy_val = 0\n",
        "    for i in range(len(elements)):\n",
        "        prob = counts[elements[i]] / len(target_col)\n",
        "        entropy_val -= prob * math.log2(prob)\n",
        "    return entropy_val\n",
        "\n",
        "# Calculate information gain\n",
        "def info_gain(data, split_attribute, target_name=\"Play\"):\n",
        "    total_entropy = entropy(data[target_name])\n",
        "    vals, counts = pd.unique(data[split_attribute]), data[split_attribute].value_counts()\n",
        "\n",
        "    weighted_entropy = 0\n",
        "    for i in range(len(vals)):\n",
        "        subset = data[data[split_attribute] == vals[i]][target_name]\n",
        "        weighted_entropy += (counts[vals[i]] / len(data)) * entropy(subset)\n",
        "\n",
        "    return total_entropy - weighted_entropy\n",
        "\n",
        "\n",
        "def id3(data, original_data, features, target_attribute=\"Play\", parent_node_class=None):\n",
        "    if len(pd.unique(data[target_attribute])) == 1:\n",
        "        return pd.unique(data[target_attribute])[0]\n",
        "\n",
        "    if len(data) == 0:\n",
        "        return pd.unique(original_data[target_attribute])[\n",
        "            pd.value_counts(original_data[target_attribute]).argmax()]\n",
        "\n",
        "    if len(features) == 0:\n",
        "        return parent_node_class\n",
        "\n",
        "    parent_node_class = pd.unique(data[target_attribute])[\n",
        "        pd.value_counts(data[target_attribute]).argmax()]\n",
        "\n",
        "    info_gains = {feature: info_gain(data, feature, target_attribute)\n",
        "                 for feature in features}\n",
        "\n",
        "    best_feature = max(info_gains.items(), key=lambda x: x[1])[0]\n",
        "\n",
        "\n",
        "    tree = {best_feature: {}}\n",
        "    features = [f for f in features if f != best_feature]\n",
        "\n",
        "    # Grow tree for each value of best feature\n",
        "    for value in pd.unique(data[best_feature]):\n",
        "        sub_data = data[data[best_feature] == value]\n",
        "        subtree = id3(sub_data, original_data, features, target_attribute,\n",
        "                     parent_node_class)\n",
        "        tree[best_feature][value] = subtree\n",
        "\n",
        "    return tree\n",
        "\n",
        "features = list(df.columns[:-1])  # All columns except 'Play'\n",
        "decision_tree = id3(df, df, features)\n",
        "\n",
        "# Pretty print the tree\n",
        "def print_tree(tree, level=0):\n",
        "    if not isinstance(tree, dict):\n",
        "        print(\"\\t\" * level + f\"Leaf: {tree}\")\n",
        "        return\n",
        "    for attribute, branches in tree.items():\n",
        "        print(\"\\t\" * level + f\"{attribute}\")\n",
        "        for value, subtree in branches.items():\n",
        "            print(\"\\t\" * (level + 1) + f\"{value} ->\")\n",
        "            print_tree(subtree, level + 2)\n",
        "\n",
        "print(\"Decision Tree:\")\n",
        "print_tree(decision_tree)\n",
        "\n"
      ],
      "metadata": {
        "id": "Mq3qQc9SYlMU",
        "outputId": "0a5912d8-1907-4175-8565-2e272186da54",
        "colab": {
          "base_uri": "https://localhost:8080/"
        }
      },
      "execution_count": null,
      "outputs": [
        {
          "output_type": "stream",
          "name": "stdout",
          "text": [
            "Decision Tree:\n",
            "Outlook\n",
            "\tSunny ->\n",
            "\t\tHumidity\n",
            "\t\t\tHigh ->\n",
            "\t\t\t\tLeaf: No\n",
            "\t\t\tNormal ->\n",
            "\t\t\t\tLeaf: Yes\n",
            "\tOvercast ->\n",
            "\t\tLeaf: Yes\n",
            "\tRainy ->\n",
            "\t\tWindy\n",
            "\t\t\tFalse ->\n",
            "\t\t\t\tLeaf: Yes\n",
            "\t\t\tTrue ->\n",
            "\t\t\t\tLeaf: No\n"
          ]
        },
        {
          "output_type": "stream",
          "name": "stderr",
          "text": [
            "<ipython-input-1-b268014b635c>:52: FutureWarning: pandas.value_counts is deprecated and will be removed in a future version. Use pd.Series(obj).value_counts() instead.\n",
            "  pd.value_counts(data[target_attribute]).argmax()]\n",
            "<ipython-input-1-b268014b635c>:52: FutureWarning: pandas.value_counts is deprecated and will be removed in a future version. Use pd.Series(obj).value_counts() instead.\n",
            "  pd.value_counts(data[target_attribute]).argmax()]\n",
            "<ipython-input-1-b268014b635c>:52: FutureWarning: pandas.value_counts is deprecated and will be removed in a future version. Use pd.Series(obj).value_counts() instead.\n",
            "  pd.value_counts(data[target_attribute]).argmax()]\n"
          ]
        }
      ]
    }
  ]
}