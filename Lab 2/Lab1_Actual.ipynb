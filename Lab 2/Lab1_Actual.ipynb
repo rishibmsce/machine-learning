{
  "nbformat": 4,
  "nbformat_minor": 0,
  "metadata": {
    "colab": {
      "provenance": []
    },
    "kernelspec": {
      "name": "python3",
      "display_name": "Python 3"
    },
    "language_info": {
      "name": "python"
    }
  },
  "cells": [
    {
      "cell_type": "code",
      "execution_count": null,
      "metadata": {
        "id": "aQX7LsTA7HiA"
      },
      "outputs": [],
      "source": [
        "import pandas as pd\n",
        "import numpy as np\n",
        "import matplotlib.pyplot as plt\n",
        "from sklearn.model_selection import train_test_split\n",
        "from sklearn.impute import SimpleImputer\n",
        "from sklearn.preprocessing import OrdinalEncoder, OneHotEncoder\n",
        "from sklearn.preprocessing import StandardScaler, MinMaxScaler\n",
        "from scipy import stats"
      ]
    },
    {
      "cell_type": "code",
      "source": [
        "adult_df = pd.read_csv(\"adult.csv\")\n",
        "diabetes_df = pd.read_csv(\"DoD.csv\")"
      ],
      "metadata": {
        "id": "m-EyLH-O7avP"
      },
      "execution_count": null,
      "outputs": []
    },
    {
      "cell_type": "code",
      "source": [
        "print(adult_df.head())\n",
        "print(diabetes_df.head())"
      ],
      "metadata": {
        "colab": {
          "base_uri": "https://localhost:8080/"
        },
        "id": "CMGK8aL27zO1",
        "outputId": "150bc21f-cd8f-42cb-f2f6-b881a308bf18"
      },
      "execution_count": null,
      "outputs": [
        {
          "output_type": "stream",
          "name": "stdout",
          "text": [
            "   age  workclass  fnlwgt     education  educational-num      marital-status  \\\n",
            "0   25    Private  226802          11th                7       Never-married   \n",
            "1   38    Private   89814       HS-grad                9  Married-civ-spouse   \n",
            "2   28  Local-gov  336951    Assoc-acdm               12  Married-civ-spouse   \n",
            "3   44    Private  160323  Some-college               10  Married-civ-spouse   \n",
            "4   18          ?  103497  Some-college               10       Never-married   \n",
            "\n",
            "          occupation relationship   race  gender  capital-gain  capital-loss  \\\n",
            "0  Machine-op-inspct    Own-child  Black    Male             0             0   \n",
            "1    Farming-fishing      Husband  White    Male             0             0   \n",
            "2    Protective-serv      Husband  White    Male             0             0   \n",
            "3  Machine-op-inspct      Husband  Black    Male          7688             0   \n",
            "4                  ?    Own-child  White  Female             0             0   \n",
            "\n",
            "   hours-per-week native-country income  \n",
            "0              40  United-States  <=50K  \n",
            "1              50  United-States  <=50K  \n",
            "2              40  United-States   >50K  \n",
            "3              40  United-States   >50K  \n",
            "4              30  United-States  <=50K  \n",
            "    ID  No_Pation Gender  AGE  Urea  Cr  HbA1c  Chol   TG  HDL  LDL  VLDL  \\\n",
            "0  502      17975      F   50   4.7  46    4.9   4.2  0.9  2.4  1.4   0.5   \n",
            "1  735      34221      M   26   4.5  62    4.9   3.7  1.4  1.1  2.1   0.6   \n",
            "2  420      47975      F   50   4.7  46    4.9   4.2  0.9  2.4  1.4   0.5   \n",
            "3  680      87656      F   50   4.7  46    4.9   4.2  0.9  2.4  1.4   0.5   \n",
            "4  504      34223      M   33   7.1  46    4.9   4.9  1.0  0.8  2.0   0.4   \n",
            "\n",
            "    BMI CLASS  \n",
            "0  24.0     N  \n",
            "1  23.0     N  \n",
            "2  24.0     N  \n",
            "3  24.0     N  \n",
            "4  21.0     N  \n"
          ]
        }
      ]
    },
    {
      "cell_type": "code",
      "source": [
        "adult_df.replace('?', np.nan, inplace=True)\n",
        "diabetes_df.replace('?', np.nan, inplace=True)"
      ],
      "metadata": {
        "id": "JSYt76ac71XT"
      },
      "execution_count": null,
      "outputs": []
    },
    {
      "cell_type": "code",
      "source": [
        "print(adult_df.isnull().sum())\n",
        "print(diabetes_df.isnull().sum())"
      ],
      "metadata": {
        "colab": {
          "base_uri": "https://localhost:8080/"
        },
        "id": "9PROYk2h76LW",
        "outputId": "b040bcbb-d536-49aa-a97b-82788ae01e7b"
      },
      "execution_count": null,
      "outputs": [
        {
          "output_type": "stream",
          "name": "stdout",
          "text": [
            "age                   0\n",
            "workclass          2799\n",
            "fnlwgt                0\n",
            "education             0\n",
            "educational-num       0\n",
            "marital-status        0\n",
            "occupation         2809\n",
            "relationship          0\n",
            "race                  0\n",
            "gender                0\n",
            "capital-gain          0\n",
            "capital-loss          0\n",
            "hours-per-week        0\n",
            "native-country      857\n",
            "income                0\n",
            "dtype: int64\n",
            "ID           0\n",
            "No_Pation    0\n",
            "Gender       0\n",
            "AGE          0\n",
            "Urea         0\n",
            "Cr           0\n",
            "HbA1c        0\n",
            "Chol         0\n",
            "TG           0\n",
            "HDL          0\n",
            "LDL          0\n",
            "VLDL         0\n",
            "BMI          0\n",
            "CLASS        0\n",
            "dtype: int64\n"
          ]
        }
      ]
    },
    {
      "cell_type": "code",
      "source": [
        "for col in [\"workclass\", \"occupation\", \"native-country\"]:\n",
        "    adult_df.fillna({col: adult_df[col].mode()[0]}, inplace=True)\n",
        "print(adult_df.isnull().sum())"
      ],
      "metadata": {
        "colab": {
          "base_uri": "https://localhost:8080/"
        },
        "id": "laUt1sjSCmf-",
        "outputId": "c985fce8-81e2-42a5-d86f-c945beac870b"
      },
      "execution_count": null,
      "outputs": [
        {
          "output_type": "stream",
          "name": "stdout",
          "text": [
            "age                0\n",
            "workclass          0\n",
            "fnlwgt             0\n",
            "education          0\n",
            "educational-num    0\n",
            "marital-status     0\n",
            "occupation         0\n",
            "relationship       0\n",
            "race               0\n",
            "gender             0\n",
            "capital-gain       0\n",
            "capital-loss       0\n",
            "hours-per-week     0\n",
            "native-country     0\n",
            "income             0\n",
            "dtype: int64\n"
          ]
        }
      ]
    },
    {
      "cell_type": "code",
      "source": [
        "print(adult_df.dtypes)\n",
        "print(diabetes_df.dtypes)\n",
        "\n",
        "# Store integer columns for scaling\n",
        "adult_num_cols = [col for col in adult_df.columns if adult_df[col].dtype != \"object\"]\n",
        "diabetes_num_cols = [col for col in diabetes_df.columns if diabetes_df[col].dtype != \"object\"]\n",
        "print(adult_num_cols)\n",
        "print(diabetes_num_cols)"
      ],
      "metadata": {
        "colab": {
          "base_uri": "https://localhost:8080/"
        },
        "id": "xcjOrcFm-eGy",
        "outputId": "5b73c1ad-0b1f-4c4b-ebf8-555b6d405b29"
      },
      "execution_count": null,
      "outputs": [
        {
          "output_type": "stream",
          "name": "stdout",
          "text": [
            "age                 int64\n",
            "workclass          object\n",
            "fnlwgt              int64\n",
            "education          object\n",
            "educational-num     int64\n",
            "marital-status     object\n",
            "occupation         object\n",
            "relationship       object\n",
            "race               object\n",
            "gender             object\n",
            "capital-gain        int64\n",
            "capital-loss        int64\n",
            "hours-per-week      int64\n",
            "native-country     object\n",
            "income             object\n",
            "dtype: object\n",
            "ID             int64\n",
            "No_Pation      int64\n",
            "Gender        object\n",
            "AGE            int64\n",
            "Urea         float64\n",
            "Cr             int64\n",
            "HbA1c        float64\n",
            "Chol         float64\n",
            "TG           float64\n",
            "HDL          float64\n",
            "LDL          float64\n",
            "VLDL         float64\n",
            "BMI          float64\n",
            "CLASS         object\n",
            "dtype: object\n",
            "['age', 'fnlwgt', 'educational-num', 'capital-gain', 'capital-loss', 'hours-per-week']\n",
            "['ID', 'No_Pation', 'AGE', 'Urea', 'Cr', 'HbA1c', 'Chol', 'TG', 'HDL', 'LDL', 'VLDL', 'BMI']\n"
          ]
        }
      ]
    },
    {
      "cell_type": "code",
      "source": [
        "# Transformation\n",
        "\n",
        "for col in adult_df.columns:\n",
        "    if adult_df[col].dtype == \"object\":\n",
        "      if col not in [\"gender\", \"relationship\", \"income\", \"race\"]:\n",
        "        encoder = OneHotEncoder()\n",
        "        data = encoder.fit_transform(adult_df[[col]]).toarray()\n",
        "        matrix = pd.DataFrame(data, columns=encoder.get_feature_names_out([col]))\n",
        "        adult_df = pd.concat([adult_df, matrix], axis=1)\n",
        "        adult_df.drop(col, axis=1, inplace=True)\n",
        "      else:\n",
        "        encoder = OrdinalEncoder(categories=[list(adult_df[col].value_counts().keys())])\n",
        "        adult_df[col] = encoder.fit_transform(adult_df[[col]])\n",
        "        # adult_df.drop(col, axis=1, inplace=True)\n",
        "print(adult_df.head())\n",
        "\n",
        "\n",
        "\n"
      ],
      "metadata": {
        "colab": {
          "base_uri": "https://localhost:8080/"
        },
        "id": "XUPitJpdENN2",
        "outputId": "0e84dd7d-0e69-499c-8251-c6ee96f38c17"
      },
      "execution_count": null,
      "outputs": [
        {
          "output_type": "stream",
          "name": "stdout",
          "text": [
            "   age  fnlwgt  educational-num  relationship  race  gender  capital-gain  \\\n",
            "0   25  226802                7           2.0   1.0     0.0             0   \n",
            "1   38   89814                9           0.0   0.0     0.0             0   \n",
            "2   28  336951               12           0.0   0.0     0.0             0   \n",
            "3   44  160323               10           0.0   1.0     0.0          7688   \n",
            "4   18  103497               10           2.0   0.0     1.0             0   \n",
            "\n",
            "   capital-loss  hours-per-week  income  ...  native-country_Portugal  \\\n",
            "0             0              40     0.0  ...                      0.0   \n",
            "1             0              50     0.0  ...                      0.0   \n",
            "2             0              40     1.0  ...                      0.0   \n",
            "3             0              40     1.0  ...                      0.0   \n",
            "4             0              30     0.0  ...                      0.0   \n",
            "\n",
            "   native-country_Puerto-Rico  native-country_Scotland  native-country_South  \\\n",
            "0                         0.0                      0.0                   0.0   \n",
            "1                         0.0                      0.0                   0.0   \n",
            "2                         0.0                      0.0                   0.0   \n",
            "3                         0.0                      0.0                   0.0   \n",
            "4                         0.0                      0.0                   0.0   \n",
            "\n",
            "   native-country_Taiwan  native-country_Thailand  \\\n",
            "0                    0.0                      0.0   \n",
            "1                    0.0                      0.0   \n",
            "2                    0.0                      0.0   \n",
            "3                    0.0                      0.0   \n",
            "4                    0.0                      0.0   \n",
            "\n",
            "   native-country_Trinadad&Tobago  native-country_United-States  \\\n",
            "0                             0.0                           1.0   \n",
            "1                             0.0                           1.0   \n",
            "2                             0.0                           1.0   \n",
            "3                             0.0                           1.0   \n",
            "4                             0.0                           1.0   \n",
            "\n",
            "   native-country_Vietnam  native-country_Yugoslavia  \n",
            "0                     0.0                        0.0  \n",
            "1                     0.0                        0.0  \n",
            "2                     0.0                        0.0  \n",
            "3                     0.0                        0.0  \n",
            "4                     0.0                        0.0  \n",
            "\n",
            "[5 rows x 96 columns]\n"
          ]
        }
      ]
    },
    {
      "cell_type": "code",
      "source": [
        "for col in diabetes_df.columns:\n",
        "    if diabetes_df[col].dtype == \"object\":\n",
        "      encoder = OrdinalEncoder(categories=[list(diabetes_df[col].value_counts().keys())])\n",
        "      diabetes_df[col] = encoder.fit_transform(diabetes_df[[col]])\n",
        "print(diabetes_df.head())"
      ],
      "metadata": {
        "colab": {
          "base_uri": "https://localhost:8080/"
        },
        "id": "zK-oOk7SHgSU",
        "outputId": "498eae1e-64d2-4705-efde-31c767574e54"
      },
      "execution_count": null,
      "outputs": [
        {
          "output_type": "stream",
          "name": "stdout",
          "text": [
            "    ID  No_Pation  Gender  AGE  Urea  Cr  HbA1c  Chol   TG  HDL  LDL  VLDL  \\\n",
            "0  502      17975     1.0   50   4.7  46    4.9   4.2  0.9  2.4  1.4   0.5   \n",
            "1  735      34221     0.0   26   4.5  62    4.9   3.7  1.4  1.1  2.1   0.6   \n",
            "2  420      47975     1.0   50   4.7  46    4.9   4.2  0.9  2.4  1.4   0.5   \n",
            "3  680      87656     1.0   50   4.7  46    4.9   4.2  0.9  2.4  1.4   0.5   \n",
            "4  504      34223     0.0   33   7.1  46    4.9   4.9  1.0  0.8  2.0   0.4   \n",
            "\n",
            "    BMI  CLASS  \n",
            "0  24.0    1.0  \n",
            "1  23.0    1.0  \n",
            "2  24.0    1.0  \n",
            "3  24.0    1.0  \n",
            "4  21.0    1.0  \n"
          ]
        }
      ]
    },
    {
      "cell_type": "code",
      "source": [
        "print(adult_df.dtypes)\n",
        "print(diabetes_df.dtypes)"
      ],
      "metadata": {
        "colab": {
          "base_uri": "https://localhost:8080/"
        },
        "id": "fsrJiSsnHj7a",
        "outputId": "801fc102-3553-4f51-bf2d-dffac093d2ad"
      },
      "execution_count": null,
      "outputs": [
        {
          "output_type": "stream",
          "name": "stdout",
          "text": [
            "age                                 int64\n",
            "fnlwgt                              int64\n",
            "educational-num                     int64\n",
            "relationship                      float64\n",
            "race                              float64\n",
            "                                   ...   \n",
            "native-country_Thailand           float64\n",
            "native-country_Trinadad&Tobago    float64\n",
            "native-country_United-States      float64\n",
            "native-country_Vietnam            float64\n",
            "native-country_Yugoslavia         float64\n",
            "Length: 96, dtype: object\n",
            "ID             int64\n",
            "No_Pation      int64\n",
            "Gender       float64\n",
            "AGE            int64\n",
            "Urea         float64\n",
            "Cr             int64\n",
            "HbA1c        float64\n",
            "Chol         float64\n",
            "TG           float64\n",
            "HDL          float64\n",
            "LDL          float64\n",
            "VLDL         float64\n",
            "BMI          float64\n",
            "CLASS        float64\n",
            "dtype: object\n"
          ]
        }
      ]
    },
    {
      "cell_type": "code",
      "source": [
        "for col in adult_num_cols:\n",
        "    scaler = MinMaxScaler()\n",
        "    adult_df[col] = scaler.fit_transform(adult_df[[col]])\n",
        "print(adult_df.head())\n",
        "\n",
        "for col in diabetes_num_cols:\n",
        "    scaler = StandardScaler()\n",
        "    diabetes_df[col] = scaler.fit_transform(diabetes_df[[col]])\n",
        "print(diabetes_df.head())"
      ],
      "metadata": {
        "colab": {
          "base_uri": "https://localhost:8080/"
        },
        "id": "TZx5QMRwRqak",
        "outputId": "eca405a7-2c05-4f7e-ec59-a30b1d087ae0"
      },
      "execution_count": null,
      "outputs": [
        {
          "output_type": "stream",
          "name": "stdout",
          "text": [
            "        age    fnlwgt  educational-num  relationship  race  gender  \\\n",
            "0  0.109589  0.145129         0.400000           2.0   1.0     0.0   \n",
            "1  0.287671  0.052451         0.533333           0.0   0.0     0.0   \n",
            "2  0.150685  0.219649         0.733333           0.0   0.0     0.0   \n",
            "3  0.369863  0.100153         0.600000           0.0   1.0     0.0   \n",
            "4  0.013699  0.061708         0.600000           2.0   0.0     1.0   \n",
            "\n",
            "   capital-gain  capital-loss  hours-per-week  income  ...  \\\n",
            "0      0.000000           0.0        0.397959     0.0  ...   \n",
            "1      0.000000           0.0        0.500000     0.0  ...   \n",
            "2      0.000000           0.0        0.397959     1.0  ...   \n",
            "3      0.076881           0.0        0.397959     1.0  ...   \n",
            "4      0.000000           0.0        0.295918     0.0  ...   \n",
            "\n",
            "   native-country_Portugal  native-country_Puerto-Rico  \\\n",
            "0                      0.0                         0.0   \n",
            "1                      0.0                         0.0   \n",
            "2                      0.0                         0.0   \n",
            "3                      0.0                         0.0   \n",
            "4                      0.0                         0.0   \n",
            "\n",
            "   native-country_Scotland  native-country_South  native-country_Taiwan  \\\n",
            "0                      0.0                   0.0                    0.0   \n",
            "1                      0.0                   0.0                    0.0   \n",
            "2                      0.0                   0.0                    0.0   \n",
            "3                      0.0                   0.0                    0.0   \n",
            "4                      0.0                   0.0                    0.0   \n",
            "\n",
            "   native-country_Thailand  native-country_Trinadad&Tobago  \\\n",
            "0                      0.0                             0.0   \n",
            "1                      0.0                             0.0   \n",
            "2                      0.0                             0.0   \n",
            "3                      0.0                             0.0   \n",
            "4                      0.0                             0.0   \n",
            "\n",
            "   native-country_United-States  native-country_Vietnam  \\\n",
            "0                           1.0                     0.0   \n",
            "1                           1.0                     0.0   \n",
            "2                           1.0                     0.0   \n",
            "3                           1.0                     0.0   \n",
            "4                           1.0                     0.0   \n",
            "\n",
            "   native-country_Yugoslavia  \n",
            "0                        0.0  \n",
            "1                        0.0  \n",
            "2                        0.0  \n",
            "3                        0.0  \n",
            "4                        0.0  \n",
            "\n",
            "[5 rows x 96 columns]\n",
            "         ID  No_Pation  Gender       AGE      Urea        Cr     HbA1c  \\\n",
            "0  0.672140  -0.074747     1.0 -0.401144 -0.144781 -0.382672 -1.334983   \n",
            "1  1.641852  -0.069940     0.0 -3.130017 -0.212954 -0.115804 -1.334983   \n",
            "2  0.330868  -0.065869     1.0 -0.401144 -0.144781 -0.382672 -1.334983   \n",
            "3  1.412950  -0.054126     1.0 -0.401144 -0.144781 -0.382672 -1.334983   \n",
            "4  0.680463  -0.069939     0.0 -2.334096  0.673299 -0.382672 -1.334983   \n",
            "\n",
            "       Chol        TG       HDL       LDL      VLDL       BMI  CLASS  \n",
            "0 -0.509436 -1.035084  1.810756 -1.085457 -0.369958 -1.124622    1.0  \n",
            "1 -0.893730 -0.678063 -0.158692 -0.457398 -0.342649 -1.326239    1.0  \n",
            "2 -0.509436 -1.035084  1.810756 -1.085457 -0.369958 -1.124622    1.0  \n",
            "3 -0.509436 -1.035084  1.810756 -1.085457 -0.369958 -1.124622    1.0  \n",
            "4  0.028576 -0.963680 -0.613180 -0.547121 -0.397267 -1.729472    1.0  \n"
          ]
        }
      ]
    }
  ]
}